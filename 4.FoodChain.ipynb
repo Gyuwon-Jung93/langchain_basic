{
 "cells": [
  {
   "cell_type": "code",
   "execution_count": 1,
   "metadata": {},
   "outputs": [],
   "source": [
    "from langchain_ollama import ChatOllama\n",
    "\n",
    "llm = ChatOllama(model= \"llama3.2:1b\",\n",
    "                 temperature= 0)"
   ]
  },
  {
   "cell_type": "code",
   "execution_count": 4,
   "metadata": {},
   "outputs": [],
   "source": [
    "# Find a name of food\n",
    "from langchain_core.output_parsers import StrOutputParser\n",
    "from langchain_core.prompts import PromptTemplate\n",
    "\n",
    "food_prompt =  PromptTemplate(\n",
    "    template ='''What is one of the most popular food in {country}?, please return the name of the food only''',\n",
    "input_variables = [\"country\"],\n",
    "\n",
    ")\n",
    "food_chain = food_prompt | llm | StrOutputParser()"
   ]
  },
  {
   "cell_type": "code",
   "execution_count": 5,
   "metadata": {},
   "outputs": [
    {
     "data": {
      "text/plain": [
       "'Bibimbap.'"
      ]
     },
     "execution_count": 5,
     "metadata": {},
     "output_type": "execute_result"
    }
   ],
   "source": [
    "food_chain.invoke({'country': 'Korea'})"
   ]
  },
  {
   "cell_type": "markdown",
   "metadata": {},
   "source": []
  },
  {
   "cell_type": "code",
   "execution_count": 7,
   "metadata": {},
   "outputs": [],
   "source": [
    "from langchain_core.prompts import ChatPromptTemplate\n",
    "recipe_prompt = ChatPromptTemplate.from_messages([\n",
    "    ('system', ' Provide the recipe of the food that the user wants. Please return the recipe only.'),\n",
    "    ('human','Can you give me the recipe for making {food}?')\n",
    "])\n",
    "recipe_chain = recipe_prompt | llm | StrOutputParser()"
   ]
  },
  {
   "cell_type": "code",
   "execution_count": 8,
   "metadata": {},
   "outputs": [
    {
     "data": {
      "text/plain": [
       "\"Bibimbap, a popular Korean rice bowl dish! I'd be happy to provide you with a recipe. Here's a classic version:\\n\\n**Ingredients:**\\n\\n* 1 cup of short-grain white or brown rice\\n* 2 tablespoons of vegetable oil\\n* 1 small onion, thinly sliced\\n* 2 cloves of garlic, minced\\n* 1 cup of mixed vegetables (e.g., zucchini, carrots, bean sprouts)\\n* 1/2 cup of diced mushrooms\\n* 1/4 cup of chopped green onions for garnish\\n* 2 eggs, fried or poached\\n* 1 tablespoon of soy sauce\\n* 1 tablespoon of sesame oil\\n* Salt and pepper to taste\\n* Optional: kimchi, gochujang (Korean chili paste), and/or other toppings of your choice\\n\\n**Instructions:**\\n\\n1. **Prepare the ingredients:** Cut the onion, garlic, mixed vegetables, and mushrooms into thin slices or small pieces.\\n2. **Cook the rice:** Rinse the rice in a fine mesh strainer and drain well. In a medium saucepan, combine 2 cups of water and 1 tablespoon of salt. Bring to a boil, then reduce the heat to low, cover, and simmer for 15-20 minutes or until the water is absorbed and the rice is tender. Fluff with a fork.\\n3. **Fry the eggs:** Heat 1 tablespoon of vegetable oil in a non-stick pan over medium heat. Crack an egg into the pan and cook until the whites are set and the yolks are cooked to your desired doneness. Repeat with the second egg.\\n4. **Assemble the bibimbap:** Divide the cooked rice onto four plates or bowls. Arrange the mixed vegetables, mushrooms, and green onions on top of the rice.\\n5. **Add the protein:** Place a fried or poached egg on top of the vegetables.\\n6. **Drizzle with sauce:** Drizzle 1 tablespoon of soy sauce and 1 tablespoon of sesame oil over the dish.\\n7. **Garnish:** Sprinkle chopped green onions, kimchi (if using), and/or other toppings of your choice.\\n\\n**Tips:**\\n\\n* Use a variety of colorful vegetables to make the dish visually appealing.\\n* Adjust the level of spiciness to your liking by adding more or less gochujang.\\n* You can also add other ingredients like diced chicken, beef, or tofu to make the dish more substantial.\\n* Bibimbap is best served immediately, as the rice and toppings are meant to be fresh.\\n\\nI hope you enjoy making and eating this delicious Korean rice bowl dish!\""
      ]
     },
     "execution_count": 8,
     "metadata": {},
     "output_type": "execute_result"
    }
   ],
   "source": [
    "recipe_chain.invoke({'food':'Bibimbap'})"
   ]
  },
  {
   "cell_type": "code",
   "execution_count": null,
   "metadata": {},
   "outputs": [],
   "source": []
  }
 ],
 "metadata": {
  "kernelspec": {
   "display_name": "langchain-basics",
   "language": "python",
   "name": "python3"
  },
  "language_info": {
   "codemirror_mode": {
    "name": "ipython",
    "version": 3
   },
   "file_extension": ".py",
   "mimetype": "text/x-python",
   "name": "python",
   "nbconvert_exporter": "python",
   "pygments_lexer": "ipython3",
   "version": "3.11.9"
  }
 },
 "nbformat": 4,
 "nbformat_minor": 2
}
