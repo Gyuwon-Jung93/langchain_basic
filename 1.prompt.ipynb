{
 "cells": [
  {
   "cell_type": "code",
   "execution_count": 2,
   "id": "79b6ff0f",
   "metadata": {},
   "outputs": [
    {
     "data": {
      "text/plain": [
       "AIMessage(content='The capital of South Korea is Seoul.', additional_kwargs={}, response_metadata={'model': 'llama3.2:1b', 'created_at': '2025-09-03T08:29:16.754479Z', 'done': True, 'done_reason': 'stop', 'total_duration': 1212692917, 'load_duration': 1072422958, 'prompt_eval_count': 33, 'prompt_eval_duration': 88610584, 'eval_count': 9, 'eval_duration': 51209708, 'model_name': 'llama3.2:1b'}, id='run--d6bcb8fe-ccfc-4aba-a68e-4607e5f32d5d-0', usage_metadata={'input_tokens': 33, 'output_tokens': 9, 'total_tokens': 42})"
      ]
     },
     "execution_count": 2,
     "metadata": {},
     "output_type": "execute_result"
    }
   ],
   "source": [
    "from langchain_ollama import ChatOllama\n",
    "\n",
    "llm = ChatOllama(model= \"llama3.2:1b\")\n",
    "llm.invoke(\"what is the capital of South Korea?\")"
   ]
  },
  {
   "cell_type": "code",
   "execution_count": 6,
   "id": "e42429c9",
   "metadata": {},
   "outputs": [
    {
     "name": "stdout",
     "output_type": "stream",
     "text": [
      "text='What is the capital of France?'\n"
     ]
    },
    {
     "data": {
      "text/plain": [
       "AIMessage(content='The capital of France is Paris.', additional_kwargs={}, response_metadata={'model': 'llama3.2:1b', 'created_at': '2025-08-28T18:43:13.541686Z', 'done': True, 'done_reason': 'stop', 'total_duration': 680423917, 'load_duration': 558458917, 'prompt_eval_count': 32, 'prompt_eval_duration': 78121750, 'eval_count': 8, 'eval_duration': 43283958, 'model_name': 'llama3.2:1b'}, id='run--57a82cf8-24a9-4f69-a364-3680675428b5-0', usage_metadata={'input_tokens': 32, 'output_tokens': 8, 'total_tokens': 40})"
      ]
     },
     "execution_count": 6,
     "metadata": {},
     "output_type": "execute_result"
    }
   ],
   "source": [
    "from langchain_core.prompts import PromptTemplate\n",
    "\n",
    "prompt_template =PromptTemplate(\n",
    "    template = \"What is the capital of {country}?\",\n",
    "    input_variables = [\"country\"],\n",
    ")\n",
    "\n",
    "prompt = prompt_template.invoke({\"country\":\"France\"})\n",
    "\n",
    "print(prompt)\n",
    "\n",
    "llm.invoke(prompt_template.invoke({\"country\":\"France\"}))\n"
   ]
  },
  {
   "cell_type": "code",
   "execution_count": 7,
   "id": "c9a35379",
   "metadata": {},
   "outputs": [
    {
     "data": {
      "text/plain": [
       "AIMessage(content=\"The capital of South Korea is actually Seoul, and also known as the Seoul Metropolitan City. It's not just a city, but an entire metropolitan area that serves as the country's capital.\\n\\nHowever, if you're referring to the administrative division of Seoul, there are two separate cities: Seoul (the core city) and Gyeonggi Province (which includes other surrounding cities and regions). But within the Seoul metropolitan area, Seoul is the sole administrative center.\", additional_kwargs={}, response_metadata={'model': 'llama3.2:1b', 'created_at': '2025-09-03T08:32:00.438252Z', 'done': True, 'done_reason': 'stop', 'total_duration': 737180250, 'load_duration': 74507083, 'prompt_eval_count': 74, 'prompt_eval_duration': 81049333, 'eval_count': 94, 'eval_duration': 580804375, 'model_name': 'llama3.2:1b'}, id='run--72ee8276-4ab6-4c84-adbe-e1a435edd1da-0', usage_metadata={'input_tokens': 74, 'output_tokens': 94, 'total_tokens': 168})"
      ]
     },
     "execution_count": 7,
     "metadata": {},
     "output_type": "execute_result"
    }
   ],
   "source": [
    "from langchain_core.messages import HumanMessage, SystemMessage, AIMessage\n",
    "\n",
    "message_list=[\n",
    "    SystemMessage(content=\"You are a helpful assistant that can answer questions about the capital of countries.\"),\n",
    "    HumanMessage(content=\"What is the capital of South Korea?\"),\n",
    "    AIMessage(content=\"The capital of South Korea is Seoul.\"),\n",
    "    HumanMessage(content=\"What is the capital of South Korea?\")\n",
    "]\n",
    "llm.invoke(message_list)\n"
   ]
  },
  {
   "cell_type": "code",
   "execution_count": null,
   "id": "297f293c",
   "metadata": {},
   "outputs": [
    {
     "name": "stdout",
     "output_type": "stream",
     "text": [
      "messages=[SystemMessage(content='You are a helpful assistant that can answer questions about the capital of countries.', additional_kwargs={}, response_metadata={}), HumanMessage(content='What is the capital of France?', additional_kwargs={}, response_metadata={})]\n"
     ]
    }
   ],
   "source": [
    "from langchain_core.prompts import ChatPromptTemplate\n",
    "\n",
    "chat_prompt_template =ChatPromptTemplate.from_messages([\n",
    "    (\n",
    "        \"system\",\n",
    "        \"You are a helpful assistant that can answer questions about the capital of countries.\"\n",
    "    ),\n",
    "    (\n",
    "        \"human\",\n",
    "        \"What is the capital of {country}?\"\n",
    "    ),\n",
    "\n",
    "])\n",
    "\n",
    "chat_prompt = chat_prompt_template.invoke({\"country\":\"France\"})\n",
    "\n",
    "print(chat_prompt)\n",
    "\n"
   ]
  },
  {
   "cell_type": "code",
   "execution_count": 11,
   "id": "db16561a",
   "metadata": {},
   "outputs": [
    {
     "data": {
      "text/plain": [
       "[SystemMessage(content='You are a helpful assistant that can answer questions about the capital of countries.', additional_kwargs={}, response_metadata={}),\n",
       " HumanMessage(content='What is the capital of France?', additional_kwargs={}, response_metadata={})]"
      ]
     },
     "execution_count": 11,
     "metadata": {},
     "output_type": "execute_result"
    }
   ],
   "source": [
    "chat_prompt.messages"
   ]
  },
  {
   "cell_type": "code",
   "execution_count": 12,
   "id": "53fa3472",
   "metadata": {},
   "outputs": [
    {
     "data": {
      "text/plain": [
       "AIMessage(content='The capital of France is Paris.', additional_kwargs={}, response_metadata={'model': 'llama3.2:1b', 'created_at': '2025-09-03T08:40:37.474039Z', 'done': True, 'done_reason': 'stop', 'total_duration': 742490042, 'load_duration': 594668792, 'prompt_eval_count': 47, 'prompt_eval_duration': 103895375, 'eval_count': 8, 'eval_duration': 43328792, 'model_name': 'llama3.2:1b'}, id='run--bccf3e87-0e0d-49cd-86d3-08745457e58f-0', usage_metadata={'input_tokens': 47, 'output_tokens': 8, 'total_tokens': 55})"
      ]
     },
     "execution_count": 12,
     "metadata": {},
     "output_type": "execute_result"
    }
   ],
   "source": [
    "llm.invoke(chat_prompt)"
   ]
  },
  {
   "cell_type": "code",
   "execution_count": null,
   "id": "702b5257",
   "metadata": {},
   "outputs": [],
   "source": []
  }
 ],
 "metadata": {
  "kernelspec": {
   "display_name": "langchain-basics",
   "language": "python",
   "name": "python3"
  },
  "language_info": {
   "codemirror_mode": {
    "name": "ipython",
    "version": 3
   },
   "file_extension": ".py",
   "mimetype": "text/x-python",
   "name": "python",
   "nbconvert_exporter": "python",
   "pygments_lexer": "ipython3",
   "version": "3.11.9"
  }
 },
 "nbformat": 4,
 "nbformat_minor": 5
}
